{
 "cells": [
  {
   "cell_type": "code",
   "execution_count": null,
   "id": "8ed37a64",
   "metadata": {},
   "outputs": [],
   "source": [
    "from Ladruno.core.tcl_model import TCL_Model\n",
    "\n",
    "model = TCL_Model( \n",
    "    model_path=\"/mnt/deadmanschest/pxpalacios/TEST_ESMERALDA/ASD3P_Manual_noImplex/ASD3P_Manual_noImplex\",       \n",
    "    verbose=True,                           \n",
    "    opensees_exe='/mnt/nfshare/bin/openseesmp-26062025',       \n",
    ")\n",
    "\n",
    "exclude_nodes = [f\"node{n}\" for n in [1,13,14,15,16,17,18]]\n",
    "\n",
    "model.run.submit(\n",
    "    exclude=exclude_nodes,\n",
    "    monitor_ram=True,\n",
    "    archive=True,\n",
    ")"
   ]
  },
  {
   "cell_type": "code",
   "execution_count": null,
   "id": "8f6fb245",
   "metadata": {},
   "outputs": [],
   "source": [
    "from Ladruno.core.tcl_multi_model import TCL_MultiModel\n",
    "\n",
    "multi_model = TCL_MultiModel(\n",
    "    model_path=\"/mnt/deadmanschest/pxpalacios/CEREBRO/MASTER_SW01_DY\",\n",
    "    verbose=True,\n",
    "    opensees_exe='/mnt/nfshare/bin/openseesmp-26062025',\n",
    ")\n",
    "\n",
    "exclude_nodes = [f\"node{n}\" for n in [1, 13, 14, 15, 16, 17, 18]]\n",
    "\n",
    "multi_model.submit(\n",
    "    exclude=exclude_nodes,\n",
    "    monitor_ram=False,\n",
    "    archive=True,\n",
    ")\n"
   ]
  }
 ],
 "metadata": {
  "kernelspec": {
   "display_name": "clark_kent",
   "language": "python",
   "name": "python3"
  },
  "language_info": {
   "codemirror_mode": {
    "name": "ipython",
    "version": 3
   },
   "file_extension": ".py",
   "mimetype": "text/x-python",
   "name": "python",
   "nbconvert_exporter": "python",
   "pygments_lexer": "ipython3",
   "version": "3.10.12"
  }
 },
 "nbformat": 4,
 "nbformat_minor": 5
}
