{
 "cells": [
  {
   "cell_type": "code",
   "execution_count": 1,
   "id": "0b5a3b73",
   "metadata": {},
   "outputs": [],
   "source": [
    "from Ladruno.core.tcl_model import TCL_Model\n"
   ]
  },
  {
   "cell_type": "code",
   "execution_count": 2,
   "id": "1b9edd1c",
   "metadata": {},
   "outputs": [],
   "source": [
    "model = TCL_Model(\n",
    "    # model_path=\"/mnt/deadmanschest/pxpalacios/TEST_ESMERALDA/00_ORIGINAL\",       \n",
    "    model_path=\"/mnt/deadmanschest/pxpalacios/TEST_ESMERALDA/ASD3P_Manual_noImplex/ASD3P_Manual_noImplex\",\n",
    "    # number_of_nodes=8,                       \n",
    "    # max_nodes=18,                             \n",
    "    # max_tasks_per_node=32,         \n",
    "    verbose=True,                           \n",
    "    opensees_exe='/mnt/nfshare/bin/openseesmp-26062025',       \n",
    ")\n"
   ]
  },
  {
   "cell_type": "code",
   "execution_count": null,
   "id": "8ed37a64",
   "metadata": {},
   "outputs": [
    {
     "name": "stdout",
     "output_type": "stream",
     "text": [
      "Found 2 unique partitions, max index is 1.\n",
      "2\n",
      "📦 get_nodes_and_tasks → nodes=1, ntasks=2\n",
      "None\n",
      "*-*-*-*-*-*-*-*-*-*-*-*-*-*-*-*-*-*-*-*-\n",
      "📝 Wrote /mnt/deadmanschest/pxpalacios/TEST_ESMERALDA/ASD3P_Manual_noImplex/ASD3P_Manual_noImplex/run.sh (nodes=1, ntasks=2, ntasks/node=None, RAM monitor=on)\n",
      "🚀 Submitted batch job 131996\n"
     ]
    },
    {
     "data": {
      "text/plain": [
       "131996"
      ]
     },
     "execution_count": 5,
     "metadata": {},
     "output_type": "execute_result"
    }
   ],
   "source": [
    "exclude_nodes = [f\"node{n}\" for n in [1,13,14,15,16,17,18]]\n",
    "# exclude_nodes = [f\"node{n}\" for n in [17,18]]\n",
    "\n",
    "\n",
    "model.run.submit(\n",
    "    exclude=exclude_nodes,\n",
    "    monitor_ram=True,\n",
    "    archive=True,\n",
    ")"
   ]
  },
  {
   "cell_type": "code",
   "execution_count": 4,
   "id": "31f6e01d",
   "metadata": {},
   "outputs": [],
   "source": [
    "# import subprocess\n",
    "# import os\n",
    "\n",
    "# path = \"/mnt/deadmanschest/pxpalacios/TEST_ESMERALDA/00_ORIGINAL/run.sh\"\n",
    "\n",
    "# # Directorio del script\n",
    "# cwd = os.path.dirname(os.path.abspath(path))\n",
    "\n",
    "# # Enviar el job con sbatch\n",
    "# proc = subprocess.run(\n",
    "#     [\"sbatch\", path],\n",
    "#     capture_output=True,\n",
    "#     text=True,\n",
    "#     check=True,\n",
    "#     cwd=cwd\n",
    "# )\n",
    "\n",
    "# # Mostrar salida de sbatch\n",
    "# print(f\"STDOUT:\\n{proc.stdout}\")\n",
    "# print(f\"STDERR:\\n{proc.stderr}\")\n"
   ]
  }
 ],
 "metadata": {
  "kernelspec": {
   "display_name": "clark_kent",
   "language": "python",
   "name": "python3"
  },
  "language_info": {
   "codemirror_mode": {
    "name": "ipython",
    "version": 3
   },
   "file_extension": ".py",
   "mimetype": "text/x-python",
   "name": "python",
   "nbconvert_exporter": "python",
   "pygments_lexer": "ipython3",
   "version": "3.10.12"
  }
 },
 "nbformat": 4,
 "nbformat_minor": 5
}
